{
  "nbformat": 4,
  "nbformat_minor": 0,
  "metadata": {
    "colab": {
      "name": "Untitled7.ipynb",
      "provenance": [],
      "include_colab_link": true
    },
    "kernelspec": {
      "name": "python3",
      "display_name": "Python 3"
    },
    "accelerator": "GPU"
  },
  "cells": [
    {
      "cell_type": "markdown",
      "metadata": {
        "id": "view-in-github",
        "colab_type": "text"
      },
      "source": [
        "<a href=\"https://colab.research.google.com/github/Praveensidda/Governor/blob/master/SLfinalproject.ipynb\" target=\"_parent\"><img src=\"https://colab.research.google.com/assets/colab-badge.svg\" alt=\"Open In Colab\"/></a>"
      ]
    },
    {
      "cell_type": "code",
      "metadata": {
        "id": "ovn2QOAh-2b8",
        "colab_type": "code",
        "colab": {}
      },
      "source": [
        "import pandas as pd\n",
        "df = pd.read_excel(\"dataset.xlsx\")\n",
        "\n",
        "import seaborn as sns\n",
        "import matplotlib.pyplot as plt\n",
        "corr = df.corr()\n",
        "bootstrap = [True, False]\n",
        "\n",
        "sns.heatmap(corr, \n",
        "        xticklabels=corr.columns,\n",
        "        yticklabels=corr.columns)"
      ],
      "execution_count": 0,
      "outputs": []
    },
    {
      "cell_type": "code",
      "metadata": {
        "id": "fsgozPUd_JAX",
        "colab_type": "code",
        "colab": {}
      },
      "source": [
        "import numpy as np\n",
        "import pandas as pd\n",
        "import seaborn as sns\n",
        "import matplotlib.pyplot as plt\n",
        "\n",
        "\n",
        "\n",
        "from sklearn import tree\n",
        "from sklearn.metrics import accuracy_score\n",
        "from sklearn.model_selection import KFold\n",
        "from sklearn.model_selection import cross_val_score\n",
        "from IPython.display import Image as PImage\n",
        "from subprocess import check_call\n",
        "from PIL import Image, ImageDraw, ImageFont\n",
        "\n",
        "# Loading the data\n",
        "train = pd.read_excel('dataset.xlsx')\n",
        "test = pd.read_excel('dataset.xlsx')\n",
        "\n",
        "# Store our test passenger IDs for easy access\n",
        "\n",
        "# Showing overview of the train dataset\n",
        "train.head(3)\n"
      ],
      "execution_count": 0,
      "outputs": []
    },
    {
      "cell_type": "code",
      "metadata": {
        "id": "0TaUgz60veB-",
        "colab_type": "code",
        "colab": {}
      },
      "source": [
        "plt.show()"
      ],
      "execution_count": 0,
      "outputs": []
    },
    {
      "cell_type": "code",
      "metadata": {
        "id": "5TkqrfLM_JPg",
        "colab_type": "code",
        "colab": {}
      },
      "source": [
        "# Load the diabetes dataset\n",
        "diabetes = datasets.load_diabetes()\n",
        "\n",
        "\n",
        "# Use only one feature\n",
        "diabetes_X = diabetes.data[:, np.newaxis, 2]\n",
        "\n",
        "# Split the data into training/testing sets\n",
        "diabetes_X_train = diabetes_X[:-20]\n",
        "diabetes_X_test = diabetes_X[-20:]\n",
        "\n",
        "# Split the targets into training/testing sets\n",
        "diabetes_y_train = diabetes.target[:-20]\n",
        "diabetes_y_test = diabetes.target[-20:]\n",
        "\n",
        "# Create linear regression object\n",
        "regr = linear_model.LinearRegression()\n",
        "\n",
        "# Train the model using the training sets\n",
        "regr.fit(diabetes_X_train, diabetes_y_train)\n",
        "\n",
        "# Make predictions using the testing set\n",
        "diabetes_y_pred = regr.predict(diabetes_X_test)\n",
        "\n",
        "# The coefficients\n",
        "print('Coefficients: \\n', regr.coef_)\n",
        "# The mean squared error\n",
        "print(\"Mean squared error: %.2f\"\n",
        "      % mean_squared_error(diabetes_y_test, diabetes_y_pred))\n",
        "# Explained variance score: 1 is perfect prediction\n",
        "print('Variance score: %.2f' % r2_score(diabetes_y_test, diabetes_y_pred))\n",
        "\n",
        "# Plot outputs\n",
        "plt.scatter(diabetes_X_test, diabetes_y_test,  color='black')\n",
        "plt.plot(diabetes_X_test, diabetes_y_pred, color='blue', linewidth=3)\n",
        "\n",
        "plt.xticks(())\n",
        "plt.yticks(())\n",
        "\n",
        "plt.show()"
      ],
      "execution_count": 0,
      "outputs": []
    },
    {
      "cell_type": "code",
      "metadata": {
        "id": "gWKm4wzF_JTe",
        "colab_type": "code",
        "colab": {}
      },
      "source": [
        "# import xlsxwriter module \n",
        "import xlsxwriter \n",
        "\n",
        "# Workbook() takes one, non-optional, argument \n",
        "# which is the filename that we want to create. \n",
        "workbook = xlsxwriter.Workbook('Ex_chart2.xlsx') \n",
        "\n",
        "# The workbook object is then used to add new \n",
        "# worksheet via the add_worksheet() method. \n",
        "worksheet = workbook.add_worksheet() \n",
        "\n",
        "# Create a new Format object to formats cells \n",
        "# in worksheets using add_format() method . \n",
        "\t\n",
        "# here we create italic format object \n",
        "bold = workbook.add_format({'italic': 1}) \n",
        "\n",
        "# Add the worksheet data that the charts will refer to. \n",
        "Data1 = ['Rate Age group', 'Total sample size', 'PCR sample size', 'Anti-HCV negative (no)', 'Anti-HCV positive (no)',\n",
        "         'PCR analysis (no)', 'Anti-HCV prevalence (%)', 'Positive PCR (no)', 'Chronic HCV prevalence (%)', 'Persistent infection'] \n",
        "Data2 = [[\"Math\", \"Physics\", \"Biology\", \"Hindi\", \"English\", \"Singing\"], \n",
        "\t\t[95, 78, 80, 80, 60, 65], \n",
        "\t\t[90, 67, 78, 70, 63, 60]] \n",
        "\n",
        "# Write a row of data starting from 'A1' \n",
        "# with bold format . \n",
        "worksheet.write_row('A1', Data1, bold) \n",
        "\n",
        "# Write a column of data starting from \n",
        "# 'A2', 'B2', 'C2' respectively . \n",
        "worksheet.write_column('A2', Data2[0]) \n",
        "worksheet.write_column('B2', Data2[1]) \n",
        "worksheet.write_column('C2', Data2[2]) \n",
        "\n",
        "# set the wdith of B and C column \n",
        "worksheet.set_column('B:C', 15) \n",
        "\n",
        "# Create a chart object that can be added \n",
        "# to a worksheet using add_chart() method. \n",
        "\n",
        "# here we create a column chart object . \n",
        "chart1 = workbook.add_chart({'type': 'column'}) \n",
        "\n",
        "# Add a data series to a chart \n",
        "# using add_series method. \n",
        "\t\n",
        "# Configure the first series. \n",
        "# = Sheet1 !$A$1 is equivalent to ['Sheet1', 0, 0]. \n",
        "\n",
        "# note : spaces is not inserted in b/w \n",
        "# = and Sheet1, Sheet1 and ! \n",
        "# if space is inserted it throws warning. \n",
        "chart1.add_series({ \n",
        "\t'name':\t '= Sheet1 !$B$1', \n",
        "\t'categories': '= Sheet1 !$A$2:$A$7', \n",
        "\t'values':\t '= Sheet1 !$B$2:$B$7', }) \n",
        "\n",
        "# Configure a second series. \n",
        "# Note use of alternative syntax to define ranges. \n",
        "# [sheetname, first_row, first_col, last_row, last_col]. \n",
        "chart1.add_series({ \n",
        "\t'name':\t ['Sheet1', 0, 2], \n",
        "\t'categories': ['Sheet1', 1, 0, 6, 0], \n",
        "\t'values':\t ['Sheet1', 1, 2, 6, 2], }) \n",
        "\n",
        "# Add a chart title \n",
        "chart1.set_title({'name': 'Exam Score distribution'}) \n",
        "\n",
        "# Add x-axis label \n",
        "chart1.set_x_axis({'name': 'Subjects'}) \n",
        "\n",
        "# Add y-axis label \n",
        "chart1.set_y_axis({'name': 'Marks'}) \n",
        "\n",
        "# set the style of the chart. \n",
        "chart1.set_style(14) \n",
        "\n",
        "# set the plot area layout of chart \n",
        "chart1.set_plotarea({ \n",
        "\t'layout': { \n",
        "\t\t'x':\t 0.15, \n",
        "\t\t'y':\t 0.09, \n",
        "\t\t'width': 0.63, \n",
        "\t\t'height': 0.40, } }) \n",
        "\n",
        "# Set a data table on the X-Axis \n",
        "# with the legend keys shown. \n",
        "chart1.set_table() \n",
        "\n",
        "# add chart to the worksheet with given \n",
        "# offset values at the top-left corner of \n",
        "# a chart is anchored to cell D2 . \n",
        "worksheet.insert_chart('D2', chart1, \n",
        "\t{'x_offset': 20, 'y_offset': 5}) \n",
        "\n",
        "# Finally, close the Excel file \n",
        "# via the close() method. \n",
        "workbook.close() "
      ],
      "execution_count": 0,
      "outputs": []
    },
    {
      "cell_type": "code",
      "metadata": {
        "id": "7AyayR3u_Jg9",
        "colab_type": "code",
        "colab": {}
      },
      "source": [
        "import numpy as np\n",
        "import matplotlib.pyplot as plt\n",
        "from matplotlib import style\n",
        "import pandas as pd\n",
        "x= pd.read_excel(\"dataset.xlsx\")\n",
        "style.use('fivethirtyeight')\n",
        "np.random.seed(seed=42)\n",
        "mu = np.array([7,5]).reshape(2,1)\n",
        "mu_c = np.array([4,3]).reshape(2,1)\n",
        "fig = plt.figure(figsize=(10,10))\n",
        "ax0 = fig.add_subplot(111)\n",
        "ax0.set_xlim(-1,10)\n",
        "ax0.set_ylim(-1,10)\n",
        "# Plot the meshgrid\n",
        "X,Y = np.meshgrid(np.linspace(-1,10,num=12),np.linspace(-1,10,num=12))\n",
        "data = np.array([X.reshape(1,144),Y.reshape(1,144)]).reshape(2,144)\n",
        "ax0.scatter(X,Y)\n",
        "# Transform the data using w\n",
        "w = np.array([[0.5,0],[0,0.5]])\n",
        "data_trans = np.dot(data.T,w)\n",
        "mu_trans = np.dot(mu.reshape(2,1).T,w).reshape(2,1)\n",
        "mu_c_trans = np.dot(mu_c.reshape(2,1).T,w).reshape(2,1)\n",
        "ax0.scatter(data_trans[:,0],data_trans[:,1],alpha=0.8,color='grey',edgecolor='black')\n",
        "# Plot mu, mu_trans, mu_k, and mu_k_trans\n",
        "# Plot mu and mu_k\n",
        "for i in [mu,mu_c,mu_trans,mu_c_trans]:\n",
        "    ax0.scatter(i[0],i[1],s=80)\n",
        "ax0.annotate('mu',[mu[0],mu[1]])\n",
        "ax0.annotate('mu_c',mu_k)\n",
        "ax0.annotate('mu_c_transformed',mu_c_trans)\n",
        "ax0.annotate('mu_transformed',mu_trans)\n",
        "plt.show()"
      ],
      "execution_count": 0,
      "outputs": []
    },
    {
      "cell_type": "code",
      "metadata": {
        "id": "MIdPc0z8_Jvp",
        "colab_type": "code",
        "colab": {}
      },
      "source": [
        "pip install xlsxWriter"
      ],
      "execution_count": 0,
      "outputs": []
    },
    {
      "cell_type": "code",
      "metadata": {
        "id": "-5sdbwZM_J0g",
        "colab_type": "code",
        "colab": {}
      },
      "source": [
        "import pandas as pd\n",
        "df = pd.read_excel(\"dataset.xlsx\")\n",
        "print(df)"
      ],
      "execution_count": 0,
      "outputs": []
    },
    {
      "cell_type": "code",
      "metadata": {
        "id": "tXAwUQC2_J4F",
        "colab_type": "code",
        "colab": {}
      },
      "source": [
        ""
      ],
      "execution_count": 0,
      "outputs": []
    },
    {
      "cell_type": "code",
      "metadata": {
        "id": "9cATIJo6_KC_",
        "colab_type": "code",
        "colab": {}
      },
      "source": [
        ""
      ],
      "execution_count": 0,
      "outputs": []
    },
    {
      "cell_type": "code",
      "metadata": {
        "id": "ZPbKGJVa_KGk",
        "colab_type": "code",
        "colab": {}
      },
      "source": [
        ""
      ],
      "execution_count": 0,
      "outputs": []
    },
    {
      "cell_type": "code",
      "metadata": {
        "id": "1_oJMzG7_KNA",
        "colab_type": "code",
        "colab": {}
      },
      "source": [
        ""
      ],
      "execution_count": 0,
      "outputs": []
    },
    {
      "cell_type": "code",
      "metadata": {
        "id": "p6jUIcyn_Kbe",
        "colab_type": "code",
        "colab": {}
      },
      "source": [
        ""
      ],
      "execution_count": 0,
      "outputs": []
    },
    {
      "cell_type": "code",
      "metadata": {
        "id": "khI2ZeSR_Kie",
        "colab_type": "code",
        "colab": {}
      },
      "source": [
        ""
      ],
      "execution_count": 0,
      "outputs": []
    },
    {
      "cell_type": "code",
      "metadata": {
        "id": "6oli9vZ0_Kpo",
        "colab_type": "code",
        "colab": {}
      },
      "source": [
        ""
      ],
      "execution_count": 0,
      "outputs": []
    },
    {
      "cell_type": "code",
      "metadata": {
        "id": "5JJFRv_R_Kwx",
        "colab_type": "code",
        "colab": {}
      },
      "source": [
        ""
      ],
      "execution_count": 0,
      "outputs": []
    },
    {
      "cell_type": "code",
      "metadata": {
        "id": "u1MFWoBL_Ktf",
        "colab_type": "code",
        "colab": {}
      },
      "source": [
        ""
      ],
      "execution_count": 0,
      "outputs": []
    },
    {
      "cell_type": "code",
      "metadata": {
        "id": "fHuk7HUr_KnS",
        "colab_type": "code",
        "colab": {}
      },
      "source": [
        ""
      ],
      "execution_count": 0,
      "outputs": []
    },
    {
      "cell_type": "code",
      "metadata": {
        "id": "aiM-tlF7_Kg0",
        "colab_type": "code",
        "colab": {}
      },
      "source": [
        ""
      ],
      "execution_count": 0,
      "outputs": []
    },
    {
      "cell_type": "code",
      "metadata": {
        "id": "v9DZDBD9_KYI",
        "colab_type": "code",
        "colab": {}
      },
      "source": [
        ""
      ],
      "execution_count": 0,
      "outputs": []
    },
    {
      "cell_type": "code",
      "metadata": {
        "id": "KP_hniwP_KVM",
        "colab_type": "code",
        "colab": {}
      },
      "source": [
        ""
      ],
      "execution_count": 0,
      "outputs": []
    },
    {
      "cell_type": "code",
      "metadata": {
        "id": "XRstvY0C_KRl",
        "colab_type": "code",
        "colab": {}
      },
      "source": [
        ""
      ],
      "execution_count": 0,
      "outputs": []
    },
    {
      "cell_type": "code",
      "metadata": {
        "id": "up8ZS83m_KLB",
        "colab_type": "code",
        "colab": {}
      },
      "source": [
        ""
      ],
      "execution_count": 0,
      "outputs": []
    },
    {
      "cell_type": "code",
      "metadata": {
        "id": "i5C-t_Pn_J_m",
        "colab_type": "code",
        "colab": {}
      },
      "source": [
        ""
      ],
      "execution_count": 0,
      "outputs": []
    },
    {
      "cell_type": "code",
      "metadata": {
        "id": "hMlQPZXa_J9A",
        "colab_type": "code",
        "colab": {}
      },
      "source": [
        ""
      ],
      "execution_count": 0,
      "outputs": []
    },
    {
      "cell_type": "code",
      "metadata": {
        "id": "XFrkKvbG_Jeq",
        "colab_type": "code",
        "colab": {}
      },
      "source": [
        ""
      ],
      "execution_count": 0,
      "outputs": []
    },
    {
      "cell_type": "code",
      "metadata": {
        "id": "zCIH0AYU_Jbi",
        "colab_type": "code",
        "colab": {}
      },
      "source": [
        ""
      ],
      "execution_count": 0,
      "outputs": []
    },
    {
      "cell_type": "code",
      "metadata": {
        "id": "baHDwRS1_JZP",
        "colab_type": "code",
        "colab": {}
      },
      "source": [
        ""
      ],
      "execution_count": 0,
      "outputs": []
    },
    {
      "cell_type": "code",
      "metadata": {
        "id": "02CtoPiI_JXq",
        "colab_type": "code",
        "colab": {}
      },
      "source": [
        ""
      ],
      "execution_count": 0,
      "outputs": []
    }
  ]
}